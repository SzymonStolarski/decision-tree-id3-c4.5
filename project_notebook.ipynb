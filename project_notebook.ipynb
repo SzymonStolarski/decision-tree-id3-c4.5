{
 "cells": [
  {
   "cell_type": "markdown",
   "metadata": {},
   "source": [
    "# Systemy uczące się - lab. Projekt 1: drzewo decyzyjne id3/c4.5"
   ]
  },
  {
   "cell_type": "markdown",
   "metadata": {},
   "source": [
    "## 1.2 Przygotowanie tabeli decyzyjnej"
   ]
  },
  {
   "cell_type": "code",
   "execution_count": 1,
   "metadata": {},
   "outputs": [
    {
     "name": "stdout",
     "output_type": "stream",
     "text": [
      "Full dataset: [['old', 'yes', 'swr', 'down'], ['old', 'no', 'swr', 'down'], ['old', 'no', 'hwr', 'down'], ['mid', 'yes', 'swr', 'down'], ['mid', 'yes', 'hwr', 'down'], ['mid', 'no', 'hwr', 'up'], ['mid', 'no', 'swr', 'up'], ['new', 'yes', 'swr', 'up'], ['new', 'no', 'hwr', 'up'], ['new', 'no', 'swr', 'up']]\n",
      "Number of unique values in each column index: {0: 3, 1: 2, 2: 2, 3: 2}\n",
      "Count each value in each column index: {0: {'old': 3, 'mid': 4, 'new': 3}, 1: {'yes': 4, 'no': 6}, 2: {'swr': 6, 'hwr': 4}, 3: {'down': 5, 'up': 5}}\n"
     ]
    }
   ],
   "source": [
    "from components.szympans import Szympans\n",
    "\n",
    "\n",
    "DATA_PATH = 'data/gielda.txt'\n",
    "DLM = ','\n",
    "TYPE_MAPPING = {0:str, 1:str, 2:str, 3:str}\n",
    "CONDITIONAL_ATRIBUTES = [0,1,2]\n",
    "DECISION_ATTRIBUTE = 3\n",
    "\n",
    "data = Szympans.read_txt(path=DATA_PATH, dlm=DLM, type_mapping=TYPE_MAPPING)\n",
    "\n",
    "print(f'Full dataset: {data}')\n",
    "print(f'Number of unique values in each column index: {Szympans.nunique(data)}')\n",
    "print(f'Count each value in each column index: {Szympans.count_values(data)}')"
   ]
  },
  {
   "cell_type": "markdown",
   "metadata": {},
   "source": [
    "## 2.1 Wyznaczanie entropii\n",
    "## 2.2 Entropia według klas decyzyjnych"
   ]
  },
  {
   "cell_type": "code",
   "execution_count": 2,
   "metadata": {},
   "outputs": [
    {
     "name": "stdout",
     "output_type": "stream",
     "text": [
      "1.0\n"
     ]
    }
   ],
   "source": [
    "from components.decision_tree_calculator import DecisionTreeCalculator\n",
    "\n",
    "\n",
    "decision_tree_calc = DecisionTreeCalculator()\n",
    "entropy = decision_tree_calc.calculate_entropy(Szympans.count_values(data)[DECISION_ATTRIBUTE])\n",
    "print(entropy)"
   ]
  },
  {
   "cell_type": "markdown",
   "metadata": {},
   "source": [
    "## 3. Funkcja informacji\n",
    "## 4. Przyrost informacji\n",
    "## 5. Zrównowaony przyrost informacji"
   ]
  },
  {
   "cell_type": "code",
   "execution_count": 3,
   "metadata": {},
   "outputs": [
    {
     "name": "stdout",
     "output_type": "stream",
     "text": [
      "Initial information: {0: 0.4, 1: 0.8754887502163469, 2: 1.0}\n",
      "Initial gain: {0: 0.6, 1: 0.12451124978365313, 2: 0.0}\n",
      "Initial gain ratio: {0: 0.3819343537078458, 1: 0.12823644219877584, 2: 0.0}\n"
     ]
    }
   ],
   "source": [
    "initial_inf, initial_gain, initial_gain_ratio = decision_tree_calc.calculate_information(data=data,\n",
    "                                                conditional_attributes=CONDITIONAL_ATRIBUTES, decision_attribute=DECISION_ATTRIBUTE)\n",
    "\n",
    "print(f'Initial information: {initial_inf}')\n",
    "print(f'Initial gain: {initial_gain}')\n",
    "print(f'Initial gain ratio: {initial_gain_ratio}')"
   ]
  },
  {
   "cell_type": "code",
   "execution_count": 4,
   "metadata": {},
   "outputs": [
    {
     "name": "stdout",
     "output_type": "stream",
     "text": [
      "Based on initial gain we select attribute: 0\n",
      "Based on initial gain ratio we select attribute: 0\n"
     ]
    }
   ],
   "source": [
    "print(f'Based on initial gain we select attribute: {decision_tree_calc.select_attribute(initial_gain)}')\n",
    "print(f'Based on initial gain ratio we select attribute: {decision_tree_calc.select_attribute(initial_gain_ratio)}')"
   ]
  }
 ],
 "metadata": {
  "interpreter": {
   "hash": "1851866e6aa6553f536216226232be892807d222c2fcb4d44039f5e3d60cd39c"
  },
  "kernelspec": {
   "display_name": "Python 3.9.7 ('advprog')",
   "language": "python",
   "name": "python3"
  },
  "language_info": {
   "codemirror_mode": {
    "name": "ipython",
    "version": 3
   },
   "file_extension": ".py",
   "mimetype": "text/x-python",
   "name": "python",
   "nbconvert_exporter": "python",
   "pygments_lexer": "ipython3",
   "version": "3.9.7"
  },
  "orig_nbformat": 4
 },
 "nbformat": 4,
 "nbformat_minor": 2
}
